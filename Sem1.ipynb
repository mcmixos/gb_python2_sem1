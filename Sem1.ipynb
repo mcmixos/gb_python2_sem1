{
 "cells": [
  {
   "attachments": {},
   "cell_type": "markdown",
   "metadata": {},
   "source": [
    "## Задача1 ##\n",
    "Чтобы сделать программу более универсальной и юзер-френдли используем input, и тогда каждый раз не надо вызывать функцию с разными входными данными.\n",
    "Также функция создает словарь, чтобы в ином сценарии можно было сразу вернуть его для наглядности, а не сумму всех фруктов."
   ]
  },
  {
   "cell_type": "code",
   "execution_count": 7,
   "metadata": {},
   "outputs": [
    {
     "name": "stdout",
     "output_type": "stream",
     "text": [
      "Всего на складе 20 фруктов\n"
     ]
    }
   ],
   "source": [
    "def fruits_in_stock():\n",
    "    fruits = {}\n",
    "    i = 0\n",
    "    n = int(input('Сколько позиций (видов) фруктов сейчас на складе?: '))\n",
    "    while i < n : \n",
    "        fruits[input('Что это за фрукт?: ')] = int(input(f'Сколько на складе фрукта номер {i+1}?: '))\n",
    "        i += 1\n",
    "    return sum(fruits.values())\n",
    "\n",
    "print(f'Всего на складе фруктов: {fruits_in_stock()} ')\n"
   ]
  },
  {
   "attachments": {},
   "cell_type": "markdown",
   "metadata": {},
   "source": [
    "## Задача2 ##\n",
    "Здесь просто возвращаем сумму, посчитанную с условием >= 0."
   ]
  },
  {
   "cell_type": "code",
   "execution_count": 1,
   "metadata": {},
   "outputs": [
    {
     "name": "stdout",
     "output_type": "stream",
     "text": [
      "Суммарные затраты без ошибок = 1425\n"
     ]
    }
   ],
   "source": [
    "advert_spendings = [100, 125, -90, 345, 655, -1, 0, 200]\n",
    "print(f'Суммарные затраты без ошибок = {sum(n for n in advert_spendings if n >= 0)}')"
   ]
  },
  {
   "attachments": {},
   "cell_type": "markdown",
   "metadata": {},
   "source": [
    "## Задача3 ##\n",
    "### 3.1 ###\n",
    "Здесь используем парсер из dateutil, чтобы сразу преобразовать список дат в формат, с которым легче работать, используя datetime"
   ]
  },
  {
   "cell_type": "code",
   "execution_count": 57,
   "metadata": {},
   "outputs": [
    {
     "name": "stdout",
     "output_type": "stream",
     "text": [
      "Сумма покупок за ноябрь = 25098\n"
     ]
    }
   ],
   "source": [
    "import datetime\n",
    "from dateutil.parser import parse\n",
    "\n",
    "purchase_date = ['2021-09-14', '2021-12-15', '2021-09-08', '2021-12-05', '2021-10-09', '2021-09-30', '2021-12-22', '2021-11-29', \n",
    "                 '2021-12-24', '2021-11-26', '2021-10-27', '2021-12-18', '2021-11-09', '2021-11-23', '2021-09-27', '2021-10-02', \n",
    "                 '2021-12-27', '2021-09-20', '2021-12-13', '2021-11-01', '2021-11-09', '2021-12-06', '2021-12-08', '2021-10-09', \n",
    "                 '2021-10-31', '2021-09-30', '2021-11-09', '2021-12-13', '2021-10-26', '2021-12-09']\n",
    "\n",
    "purchase_size = [1270, 8413, 9028, 3703, 5739, 4095, 295, 4944, 5723, 3701, 4471, 651, 7037, 4274, 6275, 4988, 6930, 2971, 6592, \n",
    "                 2004, 2822, 519, 3406, 2732, 5015, 2008, 316, 6333, 5700, 2887]\n",
    "\n",
    "for i in range(len(purchase_date)):\n",
    "    purchase_date[i] = parse(purchase_date[i])\n",
    "\n",
    "print(f'Сумма покупок за ноябрь = {sum(purchase_size[n] for n in range(len(purchase_date)) if purchase_date[n].month == 11)}')\n"
   ]
  },
  {
   "attachments": {},
   "cell_type": "markdown",
   "metadata": {},
   "source": [
    "### 3.2 ###\n",
    "Здесь заново зададим списки дат и прибыли, чтобы также вписать в функцию парсер и сделать ее таким образом более универсальной.\n",
    "(если работать со старыми списками, парсер будет ругаться)\n",
    "Суммирование в словаре реализовал через двойной цикл, иначе не догадался как сделать элегантнее."
   ]
  },
  {
   "cell_type": "code",
   "execution_count": 61,
   "metadata": {},
   "outputs": [
    {
     "name": "stdout",
     "output_type": "stream",
     "text": [
      "{9: 25647, 12: 45452, 10: 28645, 11: 25098}\n"
     ]
    }
   ],
   "source": [
    "purchase_dates = ['2021-09-14', '2021-12-15', '2021-09-08', '2021-12-05', '2021-10-09', '2021-09-30', '2021-12-22', '2021-11-29', \n",
    "                 '2021-12-24', '2021-11-26', '2021-10-27', '2021-12-18', '2021-11-09', '2021-11-23', '2021-09-27', '2021-10-02', \n",
    "                 '2021-12-27', '2021-09-20', '2021-12-13', '2021-11-01', '2021-11-09', '2021-12-06', '2021-12-08', '2021-10-09', \n",
    "                 '2021-10-31', '2021-09-30', '2021-11-09', '2021-12-13', '2021-10-26', '2021-12-09']\n",
    "\n",
    "purchase_sizes = [1270, 8413, 9028, 3703, 5739, 4095, 295, 4944, 5723, 3701, 4471, 651, 7037, 4274, 6275, 4988, 6930, 2971, 6592, \n",
    "                 2004, 2822, 519, 3406, 2732, 5015, 2008, 316, 6333, 5700, 2887]\n",
    "\n",
    "def month_income (dates: list, profit: list) -> dict:\n",
    "    for i in range(len(dates)):\n",
    "        dates[i] = parse(dates[i])\n",
    "\n",
    "    income_table = {}\n",
    "    for i in range(len(dates)):\n",
    "        income_table[dates[i].month] = sum(profit[n] for n in range(len(dates)) if dates[n].month == dates[i].month)\n",
    "    \n",
    "    return income_table\n",
    "\n",
    "print(month_income(purchase_dates, purchase_sizes))"
   ]
  }
 ],
 "metadata": {
  "kernelspec": {
   "display_name": "Python 3",
   "language": "python",
   "name": "python3"
  },
  "language_info": {
   "codemirror_mode": {
    "name": "ipython",
    "version": 3
   },
   "file_extension": ".py",
   "mimetype": "text/x-python",
   "name": "python",
   "nbconvert_exporter": "python",
   "pygments_lexer": "ipython3",
   "version": "3.11.2"
  },
  "orig_nbformat": 4,
  "vscode": {
   "interpreter": {
    "hash": "5238573367df39f7286bb46f9ff5f08f63a01a80960060ce41e3c79b190280fa"
   }
  }
 },
 "nbformat": 4,
 "nbformat_minor": 2
}
